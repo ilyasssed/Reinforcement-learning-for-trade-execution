{
 "cells": [
  {
   "cell_type": "code",
   "execution_count": 1,
   "metadata": {},
   "outputs": [],
   "source": [
    "import pandas as pd\n",
    "import numpy as np\n",
    "from datetime import datetime\n",
    "import pandas_datareader.data as web"
   ]
  },
  {
   "cell_type": "code",
   "execution_count": 2,
   "metadata": {},
   "outputs": [],
   "source": [
    "def import_order_book(Path):\n",
    "    columns = []\n",
    "    for i in range(10):\n",
    "        columns.append((\"Ask Price \"+ str(i)))\n",
    "        columns.append((\"Ask Size \" + str(i)))\n",
    "        columns.append((\"Bid Price \"+ str(i)))\n",
    "        columns.append((\"Bid Size \"+ str(i)))\n",
    "        \n",
    "    Orderbook = pd.read_csv(Path, names = columns)\n",
    "    \n",
    "    Ask_Price = []\n",
    "    Bid_Price = []\n",
    "    for i in (Orderbook.columns):\n",
    "        if i[:9] == \"Ask Price\":\n",
    "            Ask_Price.append(i)\n",
    "        if i[:9] == \"Bid Price\":\n",
    "            Bid_Price.append(i)\n",
    "    \n",
    "    Bid_price = []\n",
    "    for i in range(len(Bid_Price)-1,-1,-1):\n",
    "        Bid_price.append(Bid_Price[i])\n",
    "    Bid_Price = Bid_price\n",
    "            \n",
    "    Ask_size = []\n",
    "    Bid_size = []\n",
    "    for i in (Orderbook.columns):\n",
    "        if i[:8] == \"Ask Size\":\n",
    "            Ask_size.append(i)\n",
    "        if i[:8] == \"Bid Size\":\n",
    "            Bid_size.append(i)\n",
    "    \n",
    "    Bid_Size = []\n",
    "    for i in range(len(Bid_size)-1,-1,-1):\n",
    "        Bid_Size.append(Bid_size[i])\n",
    "    Bid_size = Bid_Size\n",
    "            \n",
    "    Orderbook.loc[:,(Bid_size)] = -Orderbook.loc[:,(Bid_size)]\n",
    "    \n",
    "    Orderbook_price = Orderbook.loc[:, (Bid_Price + Ask_Price)]\n",
    "    Orderbook_size = Orderbook.loc[:, (Bid_size + Ask_size)]\n",
    "    return Orderbook_price, Orderbook_size\n"
   ]
  },
  {
   "cell_type": "code",
   "execution_count": 3,
   "metadata": {},
   "outputs": [],
   "source": [
    "columns = [\"time\", \"type\", \"order_id\", \"size\", \"price\", \"direction\"]\n",
    "\n",
    "#The messages in order book\n",
    "df = pd.read_csv(\"AMZN_2012-06-21_34200000_57600000_message_10.csv\", header = None, names = columns)"
   ]
  },
  {
   "cell_type": "code",
   "execution_count": 4,
   "metadata": {},
   "outputs": [],
   "source": [
    "#We ytake away the message we don't want to treat\n",
    "df_new = df[df.type != 5]"
   ]
  },
  {
   "cell_type": "code",
   "execution_count": 5,
   "metadata": {},
   "outputs": [
    {
     "data": {
      "text/html": [
       "<div>\n",
       "<style scoped>\n",
       "    .dataframe tbody tr th:only-of-type {\n",
       "        vertical-align: middle;\n",
       "    }\n",
       "\n",
       "    .dataframe tbody tr th {\n",
       "        vertical-align: top;\n",
       "    }\n",
       "\n",
       "    .dataframe thead th {\n",
       "        text-align: right;\n",
       "    }\n",
       "</style>\n",
       "<table border=\"1\" class=\"dataframe\">\n",
       "  <thead>\n",
       "    <tr style=\"text-align: right;\">\n",
       "      <th></th>\n",
       "      <th>time</th>\n",
       "      <th>type</th>\n",
       "      <th>order_id</th>\n",
       "      <th>size</th>\n",
       "      <th>price</th>\n",
       "      <th>direction</th>\n",
       "    </tr>\n",
       "  </thead>\n",
       "  <tbody>\n",
       "    <tr>\n",
       "      <td>1</td>\n",
       "      <td>34200.189608</td>\n",
       "      <td>1</td>\n",
       "      <td>11885113</td>\n",
       "      <td>21</td>\n",
       "      <td>2238100</td>\n",
       "      <td>1</td>\n",
       "    </tr>\n",
       "    <tr>\n",
       "      <td>2</td>\n",
       "      <td>34200.189608</td>\n",
       "      <td>1</td>\n",
       "      <td>3911376</td>\n",
       "      <td>20</td>\n",
       "      <td>2239600</td>\n",
       "      <td>-1</td>\n",
       "    </tr>\n",
       "    <tr>\n",
       "      <td>3</td>\n",
       "      <td>34200.189608</td>\n",
       "      <td>1</td>\n",
       "      <td>11534792</td>\n",
       "      <td>100</td>\n",
       "      <td>2237500</td>\n",
       "      <td>1</td>\n",
       "    </tr>\n",
       "    <tr>\n",
       "      <td>4</td>\n",
       "      <td>34200.189608</td>\n",
       "      <td>1</td>\n",
       "      <td>1365373</td>\n",
       "      <td>13</td>\n",
       "      <td>2240000</td>\n",
       "      <td>-1</td>\n",
       "    </tr>\n",
       "    <tr>\n",
       "      <td>5</td>\n",
       "      <td>34200.189608</td>\n",
       "      <td>1</td>\n",
       "      <td>11474176</td>\n",
       "      <td>2</td>\n",
       "      <td>2236500</td>\n",
       "      <td>1</td>\n",
       "    </tr>\n",
       "  </tbody>\n",
       "</table>\n",
       "</div>"
      ],
      "text/plain": [
       "           time  type  order_id  size    price  direction\n",
       "1  34200.189608     1  11885113    21  2238100          1\n",
       "2  34200.189608     1   3911376    20  2239600         -1\n",
       "3  34200.189608     1  11534792   100  2237500          1\n",
       "4  34200.189608     1   1365373    13  2240000         -1\n",
       "5  34200.189608     1  11474176     2  2236500          1"
      ]
     },
     "execution_count": 5,
     "metadata": {},
     "output_type": "execute_result"
    }
   ],
   "source": [
    "df_new.head()"
   ]
  },
  {
   "cell_type": "markdown",
   "metadata": {},
   "source": [
    "## Definition of the problem"
   ]
  },
  {
   "cell_type": "code",
   "execution_count": 6,
   "metadata": {},
   "outputs": [],
   "source": [
    "Directions = {-1: \"Sell limit order\",\n",
    "              1: \"Buy limit order\"}\n",
    "size = 20000\n",
    "direction = 1\n",
    "Time = 4000\n",
    "actions = {1: \"Submission of a new limit order\",\n",
    "           4: \"Execution of a visible limit order\"}\n",
    "Actions = [1, 4]\n"
   ]
  },
  {
   "cell_type": "markdown",
   "metadata": {},
   "source": [
    "## Load data"
   ]
  },
  {
   "cell_type": "code",
   "execution_count": 323,
   "metadata": {},
   "outputs": [],
   "source": [
    "columns = [\"time\", \"type\", \"order_id\", \"size\", \"price\", \"direction\"]\n",
    "obp, obs = import_order_book(\"AMZN_2012-06-21_34200000_57600000_orderbook_10.csv\")\n",
    "df = pd.read_csv(\"AMZN_2012-06-21_34200000_57600000_message_10.csv\", header = None, names = columns)"
   ]
  },
  {
   "cell_type": "markdown",
   "metadata": {},
   "source": [
    "## Training the model\n",
    "This is the first training, if you want to train additional times, go and run the next part (Start here)"
   ]
  },
  {
   "cell_type": "code",
   "execution_count": 324,
   "metadata": {},
   "outputs": [],
   "source": [
    "C = {}"
   ]
  },
  {
   "cell_type": "code",
   "execution_count": 356,
   "metadata": {},
   "outputs": [
    {
     "name": "stdout",
     "output_type": "stream",
     "text": [
      "N :  15 time :  8\n",
      "N :  15 time :  7\n",
      "N :  15 time :  6\n",
      "N :  15 time :  5\n",
      "N :  15 time :  4\n",
      "N :  15 time :  3\n",
      "N :  15 time :  2\n",
      "N :  15 time :  1\n",
      "N :  15 time :  0\n",
      "N :  16 time :  8\n",
      "N :  16 time :  7\n",
      "N :  16 time :  6\n",
      "N :  16 time :  5\n",
      "N :  16 time :  4\n",
      "N :  16 time :  3\n",
      "N :  16 time :  2\n",
      "N :  16 time :  1\n",
      "N :  16 time :  0\n"
     ]
    }
   ],
   "source": [
    "A = [i*300 for i in range (-10,11)]\n",
    "I = 4\n",
    "V = 10000\n",
    "T = 8\n",
    "TT = 4000\n",
    "N = 10 # Number of training iterations\n",
    "\n",
    "\n",
    "for n in range (0,10):\n",
    "    if n > 0 :\n",
    "        obp = obp.iloc[TT+1:,:].reset_index(drop = True)\n",
    "        obs = obs.iloc[TT+1:,:].reset_index(drop = True)\n",
    "        df = df.iloc[TT+1:,:].reset_index(drop = True)\n",
    "    m0 = int((obp.iloc[0, 9] +  obp.iloc[0, 10])/2) \n",
    "    for t in range(T,-1,-1):\n",
    "        print(\"N : \", n, \"time : \", t)\n",
    "        Ls = obs.iloc[t*int(TT/T):(t+1)*int(TT/T),:]\n",
    "        Lp = obp.iloc[t*int(TT/T):(t+1)*int(TT/T), :]\n",
    "        O = df.iloc[t*int(TT/T):(t+1)*int(TT/T), :]\n",
    "\n",
    "        for i in range(0, I+1):\n",
    "            for a in A:\n",
    "                s = (t, i)\n",
    "                v_remaining = i*V/I\n",
    "                if t == T: \n",
    "                    x = (v_remaining, 1)\n",
    "                    C[(s,a)] = Lp.iloc[int(TT/T)-1, 10] * v_remaining - v_remaining * m0 \n",
    "                else:\n",
    "                    x = (v_remaining, a)\n",
    "                    vt = []\n",
    "                    mt = []\n",
    "\n",
    "                    if Lp.iloc[0, 9] + a < Lp.iloc[0,10]:\n",
    "                        for tt in range(t*int(TT/T), (t+1)*int(TT/T)):\n",
    "                            if v_remaining > 0:\n",
    "                                if ((O.loc[tt, \"type\"] == 4) & (O.loc[tt, \"price\"] <= Lp.iloc[0, 9] + a) & (O.loc[tt, \"direction\"] == 1)):\n",
    "                                    vt.append(O.loc[tt, \"size\"])\n",
    "                                    v_remaining -= O.loc[tt, \"size\"]\n",
    "                                    mt.append(Lp.iloc[0, 9] + a)\n",
    "                                if ((O.loc[tt, \"type\"] == 1) & (O.loc[tt, \"price\"] <= Lp.iloc[0, 9] + a) & (O.loc[tt, \"direction\"] == -1)):\n",
    "                                    vt.append(O.loc[tt, \"size\"])\n",
    "                                    v_remaining -= O.loc[tt, \"size\"]\n",
    "                                    mt.append(O.loc[tt, \"price\"])\n",
    "                        v_remaining = max (0, v_remaining)\n",
    "                        ip = int(v_remaining/(V/I))\n",
    "\n",
    "                        sp = (t+1, ip)\n",
    "                        temp = [C[(sp, j)] for j in A]\n",
    "                        for k in A:\n",
    "                            if C[(sp, k)] == min(temp):\n",
    "                                ap = k\n",
    "                        if n == 0:\n",
    "                            C[(s,a)] = (np.matmul(vt, mt))- m0 * sum(vt) + C[(sp,ap)]\n",
    "                        if n > 0 :\n",
    "                            C[(s,a)] = (n/(n+1)) * C[(s,a)] + (1/(n+1)) * ((np.matmul(vt, mt))- m0 * sum(vt) + C[(sp,ap)])\n",
    "\n",
    "                    else:\n",
    "                        vt.append(v_remaining)\n",
    "                        mt.append(Lp.iloc[0,10])\n",
    "                        v_remaining = 0\n",
    "                        ip = 0\n",
    "                        sp = (t+1, ip)\n",
    "                        temp = [C[(sp, j)] for j in A]\n",
    "                        for k in A:\n",
    "                            if C[(sp, k)] == min(temp):\n",
    "                                ap = k\n",
    "                        if n == 0:\n",
    "                            C[(s,a)] = np.matmul(vt, mt) - vt[0] * m0 + C[(sp,ap)]\n",
    "                        if n > 0:\n",
    "                            C[(s,a)] =  (n/(n+1)) * C[(s,a)] + (1/(n+1)) * (np.matmul(vt, mt) - vt[0] * m0 + C[(sp,ap)])                            \n",
    "\n",
    "                    "
   ]
  },
  {
   "cell_type": "markdown",
   "metadata": {},
   "source": [
    "## Testing the model"
   ]
  },
  {
   "cell_type": "code",
   "execution_count": 403,
   "metadata": {},
   "outputs": [],
   "source": [
    "Mean_prices = {}\n",
    "Mean_prices[\"NFK_Price\"] = []\n",
    "Mean_prices[\"NFK_Price_volume\"] = []\n",
    "Mean_prices[\"IE_Price\"] = []\n",
    "Mean_prices[\"CP_Price\"] = []\n",
    "Mean_prices[\"SL_Price\"] = []"
   ]
  },
  {
   "cell_type": "markdown",
   "metadata": {},
   "source": [
    "## Start here\n",
    "Run all bellow several times to get several results"
   ]
  },
  {
   "cell_type": "code",
   "execution_count": 1282,
   "metadata": {},
   "outputs": [
    {
     "name": "stdout",
     "output_type": "stream",
     "text": [
      "N :  47 time :  8\n",
      "N :  47 time :  7\n",
      "N :  47 time :  6\n",
      "N :  47 time :  5\n",
      "N :  47 time :  4\n",
      "N :  47 time :  3\n",
      "N :  47 time :  2\n",
      "N :  47 time :  1\n",
      "N :  47 time :  0\n"
     ]
    }
   ],
   "source": [
    "n += 1\n",
    "for t in range(T,-1,-1):\n",
    "        print(\"N : \", n, \"time : \", t)\n",
    "        Ls = obs.iloc[t*int(TT/T):(t+1)*int(TT/T),:]\n",
    "        Lp = obp.iloc[t*int(TT/T):(t+1)*int(TT/T), :]\n",
    "        O = df.iloc[t*int(TT/T):(t+1)*int(TT/T), :]\n",
    "\n",
    "        for i in range(0, I+1):\n",
    "            for a in A:\n",
    "                s = (t, i)\n",
    "                v_remaining = i*V/I\n",
    "                if t == T: \n",
    "                    x = (v_remaining, 1)\n",
    "                    C[(s,a)] = Lp.iloc[int(TT/T)-1, 10] * v_remaining - v_remaining * m0 \n",
    "                else:\n",
    "                    x = (v_remaining, a)\n",
    "                    vt = []\n",
    "                    mt = []\n",
    "\n",
    "                    if Lp.iloc[0, 9] + a < Lp.iloc[0,10]:\n",
    "                        for tt in range(t*int(TT/T), (t+1)*int(TT/T)):\n",
    "                            if v_remaining > 0:\n",
    "                                if ((O.loc[tt, \"type\"] == 4) & (O.loc[tt, \"price\"] <= Lp.iloc[0, 9] + a) & (O.loc[tt, \"direction\"] == 1)):\n",
    "                                    vt.append(O.loc[tt, \"size\"])\n",
    "                                    v_remaining -= O.loc[tt, \"size\"]\n",
    "                                    mt.append(Lp.iloc[0, 9] + a)\n",
    "                                if ((O.loc[tt, \"type\"] == 1) & (O.loc[tt, \"price\"] <= Lp.iloc[0, 9] + a) & (O.loc[tt, \"direction\"] == -1)):\n",
    "                                    vt.append(O.loc[tt, \"size\"])\n",
    "                                    v_remaining -= O.loc[tt, \"size\"]\n",
    "                                    mt.append(O.loc[tt, \"price\"])\n",
    "                        v_remaining = max (0, v_remaining)\n",
    "                        ip = int(v_remaining/(V/I))\n",
    "\n",
    "                        sp = (t+1, ip)\n",
    "                        temp = [C[(sp, j)] for j in A]\n",
    "                        for k in A:\n",
    "                            if C[(sp, k)] == min(temp):\n",
    "                                ap = k\n",
    "                        if n == 0:\n",
    "                            C[(s,a)] = (np.matmul(vt, mt))- m0 * sum(vt) + C[(sp,ap)]\n",
    "                        if n > 0 :\n",
    "                            C[(s,a)] = (n/(n+1)) * C[(s,a)] + (1/(n+1)) * ((np.matmul(vt, mt))- m0 * sum(vt) + C[(sp,ap)])\n",
    "\n",
    "                    else:\n",
    "                        vt.append(v_remaining)\n",
    "                        mt.append(Lp.iloc[0,10])\n",
    "                        v_remaining = 0\n",
    "                        ip = 0\n",
    "                        sp = (t+1, ip)\n",
    "                        temp = [C[(sp, j)] for j in A]\n",
    "                        for k in A:\n",
    "                            if C[(sp, k)] == min(temp):\n",
    "                                ap = k\n",
    "                        if n == 0:\n",
    "                            C[(s,a)] = np.matmul(vt, mt) - vt[0] * m0 + C[(sp,ap)]\n",
    "                        if n > 0:\n",
    "                            C[(s,a)] =  (n/(n+1)) * C[(s,a)] + (1/(n+1)) * (np.matmul(vt, mt) - vt[0] * m0 + C[(sp,ap)])                            \n"
   ]
  },
  {
   "cell_type": "code",
   "execution_count": 1283,
   "metadata": {},
   "outputs": [],
   "source": [
    "import csv\n",
    "with open('C.csv', 'w') as f:\n",
    "    for key in C.keys():\n",
    "        f.write(\"%s,%s\\n\"%(key,C[key]))\n",
    "with open('n.txt', 'w') as f:\n",
    "    f.write(str(n))"
   ]
  },
  {
   "cell_type": "code",
   "execution_count": 1284,
   "metadata": {},
   "outputs": [],
   "source": [
    "obp = obp.iloc[4001:,:].reset_index(drop = True)\n",
    "obs = obs.iloc[4001:,:].reset_index(drop = True)\n",
    "df = df.iloc[4001:,:].reset_index(drop = True)"
   ]
  },
  {
   "cell_type": "markdown",
   "metadata": {},
   "source": [
    "## NFK Model testing"
   ]
  },
  {
   "cell_type": "code",
   "execution_count": 1285,
   "metadata": {},
   "outputs": [],
   "source": [
    "A = [i*300 for i in range (-10,11)]\n",
    "t = 0\n",
    "\n",
    "def test_scenario(C,I,T,A,t,obp,obs,df):\n",
    "    t0 = t\n",
    "    tp = t + 8\n",
    "    i = 4\n",
    "    Cp = {}\n",
    "    m0 = int((obp.iloc[t0*int(TT/T), 9] +  obp.iloc[t0*int(TT/T), 10])/2)\n",
    "    print(\"m0 : \", m0)\n",
    "    while t <= tp and i > 0:\n",
    "        print (t)\n",
    "        s = (t,i)\n",
    "        Ls = obs.iloc[t*int(TT/T):(t+1)*int(TT/T),:]\n",
    "        Lp = obp.iloc[t*int(TT/T):(t+1)*int(TT/T), :]\n",
    "        O = df.iloc[t*int(TT/T):(t+1)*int(TT/T), :]\n",
    "\n",
    "        v_remaining = i*V/I\n",
    "        a = 0\n",
    "        temp = [C[(s, j)] for j in A]\n",
    "        print(min(temp))\n",
    "        for k in A:\n",
    "            if C[(s, k)] == min(temp):\n",
    "                a = k\n",
    "                break\n",
    "\n",
    "        vt = []\n",
    "        mt = []\n",
    "        if t == tp:\n",
    "            i = 0\n",
    "            Cp[(s,a)] = Lp.iloc[0, 10] * v_remaining - v_remaining * m0 \n",
    "        if Lp.iloc[0,9] + a < Lp.iloc[0, 10]:\n",
    "            \n",
    "            for tt in range(t*int(TT/T), (t+1)*int(TT/T)):\n",
    "                if v_remaining > 0 :\n",
    "                    if ((O.loc[tt, \"type\"] == 4) & (O.loc[tt, \"price\"] <= Lp.iloc[0,9] + a) & (O.loc[tt, \"direction\"] == 1)):\n",
    "                        vt.append(O.loc[tt, \"size\"])\n",
    "                        v_remaining -= O.loc[tt, \"size\"]\n",
    "                        mt.append(Lp.iloc[0, 9] + a)\n",
    "                    if ((O.loc[tt, \"type\"] == 1) & (O.loc[tt, \"price\"] <= Lp.iloc[0,9] + a) & (O.loc[tt, \"direction\"] == -1)):\n",
    "                        vt.append(O.loc[tt, \"size\"])\n",
    "                        v_remaining -= O.loc[tt, \"size\"]\n",
    "                        mt.append(O.loc[tt, \"price\"])\n",
    "        \n",
    "            v_remaining = max(0, v_remaining)\n",
    "            i = int(v_remaining/(V/I))\n",
    "            Cp[(s,a)] = np.matmul(vt, mt)- m0 * sum(vt)\n",
    "            \n",
    "        else:\n",
    "            \n",
    "            vt.append(v_remaining)\n",
    "            mt.append(Lp.iloc[0,10])\n",
    "            v_remaining = 0\n",
    "            i = 0\n",
    "            print(mt)\n",
    "            Cp[(s,a)] = np.matmul(vt, mt) - sum(vt) * m0\n",
    "            \n",
    "        t += 1\n",
    "        print(i)\n",
    "        \n",
    "    return(Cp)\n",
    "        \n",
    "    \n",
    "    \n",
    "    "
   ]
  },
  {
   "cell_type": "markdown",
   "metadata": {},
   "source": [
    "## Testing Instant execution\n",
    "La stratégie la plus simple consiste à soumettre un ordre marché pour le volume complet au début de l'épisode. Cela garantit que tout le volume est exécuté et réduit les risques liés aux variations défavorables de prix. Cependant, en vendant ou en achetant le volume total au début, l'investisseur obtiendra des prix pires que celui les ordres qui sont consommés dans le cote opposé du carnet d'ordres. IE agit comme une base de référence du pire des cas pour montrer ce qu'un ordre de marché des le début coûterait."
   ]
  },
  {
   "cell_type": "code",
   "execution_count": 1286,
   "metadata": {},
   "outputs": [],
   "source": [
    "import math\n",
    "def Price_NFK(C,I,T,A,t,obp,obs,df):\n",
    "    t0 = t\n",
    "    tp = t + 8\n",
    "    i = 4\n",
    "    Cp = {}\n",
    "    m0 = int((obp.iloc[t0*int(TT/T), 9] +  obp.iloc[t0*int(TT/T), 10])/2)\n",
    "    print(\"m0 : \", m0)\n",
    "    Prices = []\n",
    "    Volumes = []\n",
    "    while t <= tp and i > 0:\n",
    "        print (t)\n",
    "        s = (t,i)\n",
    "        Ls = obs.iloc[t*int(TT/T):(t+1)*int(TT/T),:]\n",
    "        Lp = obp.iloc[t*int(TT/T):(t+1)*int(TT/T), :]\n",
    "        O = df.iloc[t*int(TT/T):(t+1)*int(TT/T), :]\n",
    "\n",
    "        v_remaining = i*V/I\n",
    "        a = 0\n",
    "        temp = [C[(s, j)] for j in A]\n",
    "        \n",
    "        for k in A:\n",
    "            if C[(s, k)] == min(temp):\n",
    "                a = k\n",
    "                break\n",
    "\n",
    "        vt = []\n",
    "        mt = []\n",
    "        if t == tp:\n",
    "            Volumes.append(i)\n",
    "            Prices.append(Lp.iloc[0, 10])\n",
    "            i = 0\n",
    "            Cp[(s,a)] = Lp.iloc[0, 10] * v_remaining - v_remaining * m0\n",
    "            break\n",
    "            \n",
    "        if Lp.iloc[0,9] + a < Lp.iloc[0, 10]:\n",
    "            \n",
    "            for tt in range(t*int(TT/T), (t+1)*int(TT/T)):\n",
    "                if v_remaining > 0 :\n",
    "                    if ((O.loc[tt, \"type\"] == 4) & (O.loc[tt, \"price\"] <= Lp.iloc[0,9] + a) & (O.loc[tt, \"direction\"] == 1)):\n",
    "                        vt.append(O.loc[tt, \"size\"])\n",
    "                        v_remaining -= O.loc[tt, \"size\"]\n",
    "                        mt.append(Lp.iloc[0, 9] + a)\n",
    "                    if ((O.loc[tt, \"type\"] == 1) & (O.loc[tt, \"price\"] <= Lp.iloc[0,9] + a) & (O.loc[tt, \"direction\"] == -1)):\n",
    "                        vt.append(O.loc[tt, \"size\"])\n",
    "                        v_remaining -= O.loc[tt, \"size\"]\n",
    "                        mt.append(O.loc[tt, \"price\"])\n",
    "        \n",
    "            v_remaining = max(0, v_remaining)\n",
    "            if mt != []:\n",
    "                Prices.append(np.mean(mt))\n",
    "            else:\n",
    "                Prices.append(0)\n",
    "            i0 = i\n",
    "            i = int(v_remaining/(V/I))\n",
    "            if vt != []:\n",
    "                Volumes.append(i0 - i)\n",
    "            else:\n",
    "                Volumes.append(0)\n",
    "            Cp[(s,a)] = np.matmul(vt, mt)- m0 * sum(vt)\n",
    "            \n",
    "        else:\n",
    "            \n",
    "            vt.append(v_remaining)\n",
    "            mt.append(Lp.iloc[0,10])\n",
    "            v_remaining = 0\n",
    "            i = 0\n",
    "            Prices.append(np.mean(mt))\n",
    "            Volumes.append(math.ceil(sum(vt)/(V/I)))\n",
    "            Cp[(s,a)] = np.matmul(vt, mt) - sum(vt) * m0\n",
    "            \n",
    "        t += 1\n",
    "        print(i)\n",
    "        \n",
    "    return (Prices, Volumes)"
   ]
  },
  {
   "cell_type": "code",
   "execution_count": 1287,
   "metadata": {},
   "outputs": [
    {
     "name": "stdout",
     "output_type": "stream",
     "text": [
      "m0 :  2213800\n",
      "0\n",
      "0\n"
     ]
    }
   ],
   "source": [
    "Prices_NF, Volumes_NF = Price_NFK(C,I,T,A,t,obp,obs,df)"
   ]
  },
  {
   "cell_type": "code",
   "execution_count": 1289,
   "metadata": {},
   "outputs": [],
   "source": [
    "NFK_Price = np.matmul(Prices_NF, Volumes_NF)/I"
   ]
  },
  {
   "cell_type": "code",
   "execution_count": 1290,
   "metadata": {},
   "outputs": [
    {
     "name": "stdout",
     "output_type": "stream",
     "text": [
      "The NFK mean Price is :  2214200.0\n"
     ]
    }
   ],
   "source": [
    "print(\"The NFK mean Price is : \", NFK_Price)"
   ]
  },
  {
   "cell_type": "code",
   "execution_count": 1291,
   "metadata": {},
   "outputs": [],
   "source": [
    "Mean_prices[\"NFK_Price\"].append(NFK_Price)"
   ]
  },
  {
   "cell_type": "code",
   "execution_count": 1292,
   "metadata": {},
   "outputs": [
    {
     "name": "stdout",
     "output_type": "stream",
     "text": [
      "The IE Price is :  2214200\n"
     ]
    }
   ],
   "source": [
    "IE_Price = obp.iloc[0,10]\n",
    "print(\"The IE Price is : \", IE_Price)"
   ]
  },
  {
   "cell_type": "code",
   "execution_count": 1293,
   "metadata": {},
   "outputs": [],
   "source": [
    "Mean_prices[\"IE_Price\"].append(IE_Price)"
   ]
  },
  {
   "cell_type": "markdown",
   "metadata": {},
   "source": [
    "## Submit and leave"
   ]
  },
  {
   "cell_type": "code",
   "execution_count": 1294,
   "metadata": {},
   "outputs": [],
   "source": [
    "price = obp.iloc[0,9]\n",
    "v_remaining = 10000\n",
    "t = 0\n",
    "mt = []\n",
    "vt = []\n",
    "for tt in range(t*int(TT/T), (t+T-1)*int(TT/T)):\n",
    "    if v_remaining > 0 :\n",
    "        if ((df.loc[tt, \"type\"] == 4) & (df.loc[tt, \"price\"] <= price) & (df.loc[tt, \"direction\"] == 1)):\n",
    "            vt.append(df.loc[tt, \"size\"])\n",
    "            v_remaining -= df.loc[tt, \"size\"]\n",
    "            mt.append(price)\n",
    "        if ((df.loc[tt, \"type\"] == 1) & (df.loc[tt, \"price\"] <= price) & (df.loc[tt, \"direction\"] == -1)):\n",
    "            vt.append(df.loc[tt, \"size\"])\n",
    "            v_remaining -= df.loc[tt, \"size\"]\n",
    "            mt.append(df.loc[tt, \"price\"])\n",
    "    \n",
    "    v_remaining = max(0, v_remaining)\n",
    "\n",
    "if v_remaining > 0:\n",
    "    price = obp.iloc[4000,10]\n",
    "    mt.append(price)\n",
    "    vt.append(v_remaining)\n",
    "    \n",
    "    "
   ]
  },
  {
   "cell_type": "code",
   "execution_count": 1295,
   "metadata": {},
   "outputs": [
    {
     "name": "stdout",
     "output_type": "stream",
     "text": [
      "The submit and leave mean price is :  2219978.22\n"
     ]
    }
   ],
   "source": [
    "SL_Price = np.matmul(vt,mt)/sum(vt)\n",
    "print(\"The submit and leave mean price is : \", SL_Price)"
   ]
  },
  {
   "cell_type": "code",
   "execution_count": 1296,
   "metadata": {},
   "outputs": [],
   "source": [
    "Mean_prices[\"SL_Price\"].append(SL_Price)"
   ]
  },
  {
   "cell_type": "markdown",
   "metadata": {},
   "source": [
    "## Constant Policy"
   ]
  },
  {
   "cell_type": "code",
   "execution_count": 1297,
   "metadata": {},
   "outputs": [],
   "source": [
    "v_remaining = 10000\n",
    "mt = []\n",
    "vt = []\n",
    "\n",
    "for t in range(0,T):\n",
    "    for tt in range(t*int(TT/T), (t+1)*int(TT/T)):\n",
    "        price = obp.iloc[t*int(TT/T),9]\n",
    "        if v_remaining > 0 :\n",
    "            if ((df.loc[tt, \"type\"] == 4) & (df.loc[tt, \"price\"] <= price) & (df.loc[tt, \"direction\"] == 1)):\n",
    "                vt.append(df.loc[tt, \"size\"])\n",
    "                v_remaining -= df.loc[tt, \"size\"]\n",
    "                mt.append(price)\n",
    "            if ((df.loc[tt, \"type\"] == 1) & (df.loc[tt, \"price\"] <= price) & (df.loc[tt, \"direction\"] == -1)):\n",
    "                vt.append(df.loc[tt, \"size\"])\n",
    "                v_remaining -= df.loc[tt, \"size\"]\n",
    "                mt.append(df.loc[tt, \"price\"])\n",
    "\n",
    "        v_remaining = max(0, v_remaining)\n",
    "\n",
    "if v_remaining > 0:\n",
    "    price = obp.iloc[4000,10]\n",
    "    mt.append(price)\n",
    "    vt.append(v_remaining)"
   ]
  },
  {
   "cell_type": "code",
   "execution_count": 1298,
   "metadata": {},
   "outputs": [
    {
     "name": "stdout",
     "output_type": "stream",
     "text": [
      "The constant policy mean price is :  2219914.22\n"
     ]
    }
   ],
   "source": [
    "CP_Price = np.matmul(vt,mt)/sum(vt)\n",
    "print(\"The constant policy mean price is : \", CP_Price)"
   ]
  },
  {
   "cell_type": "code",
   "execution_count": 1300,
   "metadata": {},
   "outputs": [],
   "source": [
    "Mean_prices[\"CP_Price\"].append(CP_Price)"
   ]
  },
  {
   "cell_type": "markdown",
   "metadata": {},
   "source": [
    "## NFK Volume choosing"
   ]
  },
  {
   "cell_type": "code",
   "execution_count": 1301,
   "metadata": {},
   "outputs": [],
   "source": [
    "A = [i*300 for i in range (-10,11)]\n",
    "I = 4\n",
    "V = 10000\n",
    "T = 8\n",
    "TT = 4000\n",
    "t = 0\n",
    "\n",
    "def Price_NFK_volume(C,I,T,A,t,obp,obs,df):\n",
    "    t0 = t\n",
    "    tp = t + T\n",
    "    i = 4\n",
    "    Cp = {}\n",
    "    m0 = int((obp.iloc[t0*int(TT/T), 9] +  obp.iloc[t0*int(TT/T), 10])/2)\n",
    "    print(\"m0 : \", m0)\n",
    "    Prices = []\n",
    "    Volumes = []\n",
    "    \n",
    "    while t <= tp and i > 0:\n",
    "        \n",
    "        print (\"time : \",t)\n",
    "        s = (t,i)\n",
    "        Ls = obs.iloc[t*int(TT/T):(t+1)*int(TT/T),:]\n",
    "        Lp = obp.iloc[t*int(TT/T):(t+1)*int(TT/T), :]\n",
    "        O = df.iloc[t*int(TT/T):(t+1)*int(TT/T), :]\n",
    "        v_remaining = i*V/I\n",
    "        a = 0\n",
    "        vb = i\n",
    "        temp = [C[(s, j)] for j in A]\n",
    "        \n",
    "        temp = [C[((0,h), j)] for h in range(1,i) for j in A]\n",
    "\n",
    "        for k in A:\n",
    "            for v in range(1,i):\n",
    "                if C[((t,v), k)] == min(temp):\n",
    "                    a = k\n",
    "                    vb = v\n",
    "                    break\n",
    "        print(\"volume : \",vb)\n",
    "        \n",
    "        vt = []\n",
    "        mt = []\n",
    "        \n",
    "        if t == tp:\n",
    "            \n",
    "            Volumes.append(i)\n",
    "            Prices.append(Lp.iloc[0, 10])\n",
    "            i = 0\n",
    "            Cp[(s,a)] = Lp.iloc[0, 10] * v_remaining - v_remaining * m0\n",
    "            \n",
    "        else:\n",
    "            \n",
    "            vb_remaining = vb*V/I\n",
    "\n",
    "            if Lp.iloc[0,9] + a < Lp.iloc[0, 10]:\n",
    "\n",
    "                for tt in range(t*int(TT/T), (t+1)*int(TT/T)):\n",
    "                    if vb_remaining > 0 :\n",
    "                        if ((O.loc[tt, \"type\"] == 4) & (O.loc[tt, \"price\"] <= Lp.iloc[0,9] + a) & (O.loc[tt, \"direction\"] == 1)):\n",
    "                            vt.append(O.loc[tt, \"size\"])\n",
    "                            vb_remaining -= O.loc[tt, \"size\"]\n",
    "                            mt.append(Lp.iloc[0, 9] + a)\n",
    "                        if ((O.loc[tt, \"type\"] == 1) & (O.loc[tt, \"price\"] <= Lp.iloc[0,9] + a) & (O.loc[tt, \"direction\"] == -1)):\n",
    "                            vt.append(O.loc[tt, \"size\"])\n",
    "                            vb_remaining -= O.loc[tt, \"size\"]\n",
    "                            mt.append(O.loc[tt, \"price\"])\n",
    "\n",
    "                vb_remaining = max(0, vb_remaining)\n",
    "                if mt != []:\n",
    "                    Prices.append(np.mean(mt))\n",
    "                else:\n",
    "                    Prices.append(0)\n",
    "                i0 = i\n",
    "                i = i - vb + int(vb_remaining/(V/I))\n",
    "                print(\"remaining volume:\", i)\n",
    "                if vt != []:\n",
    "                    Volumes.append(i0 - i)\n",
    "                else:\n",
    "                    Volumes.append(0)\n",
    "                Cp[(s,a)] = np.matmul(vt, mt)- m0 * sum(vt)\n",
    "\n",
    "            else:\n",
    "\n",
    "                vt.append(vb_remaining)\n",
    "                mt.append(Lp.iloc[0,10])\n",
    "                v_remaining = 0\n",
    "                i = i - vb \n",
    "                Prices.append(np.mean(mt))\n",
    "                Volumes.append(math.ceil(sum(vt)/(V/I)))\n",
    "                Cp[(s,a)] = np.matmul(vt, mt) - sum(vt) * m0\n",
    "            \n",
    "        t += 1\n",
    "        print(i)\n",
    "        \n",
    "    return (Prices, Volumes)"
   ]
  },
  {
   "cell_type": "code",
   "execution_count": 1302,
   "metadata": {},
   "outputs": [
    {
     "name": "stdout",
     "output_type": "stream",
     "text": [
      "m0 :  2213800\n",
      "time :  0\n",
      "volume :  3\n",
      "1\n",
      "time :  1\n",
      "volume :  1\n",
      "remaining volume: 0\n",
      "0\n"
     ]
    }
   ],
   "source": [
    "Prices_NF_volume, Volumes_NF_volume = Price_NFK_volume(C,I,T,A,t,obp,obs,df)"
   ]
  },
  {
   "cell_type": "code",
   "execution_count": 1303,
   "metadata": {},
   "outputs": [
    {
     "data": {
      "text/plain": [
       "[2214200.0, 2213600.0]"
      ]
     },
     "execution_count": 1303,
     "metadata": {},
     "output_type": "execute_result"
    }
   ],
   "source": [
    "Prices_NF_volume"
   ]
  },
  {
   "cell_type": "code",
   "execution_count": 1304,
   "metadata": {},
   "outputs": [
    {
     "data": {
      "text/plain": [
       "[3, 1]"
      ]
     },
     "execution_count": 1304,
     "metadata": {},
     "output_type": "execute_result"
    }
   ],
   "source": [
    "Volumes_NF_volume"
   ]
  },
  {
   "cell_type": "code",
   "execution_count": 1305,
   "metadata": {},
   "outputs": [],
   "source": [
    "NFK_Price_volume = np.matmul(Prices_NF_volume, Volumes_NF_volume)/I"
   ]
  },
  {
   "cell_type": "code",
   "execution_count": 1306,
   "metadata": {},
   "outputs": [
    {
     "name": "stdout",
     "output_type": "stream",
     "text": [
      "The NFK with volume choice mean price is :  2214050.0\n"
     ]
    }
   ],
   "source": [
    "print(\"The NFK with volume choice mean price is : \", NFK_Price_volume)"
   ]
  },
  {
   "cell_type": "code",
   "execution_count": 1307,
   "metadata": {},
   "outputs": [],
   "source": [
    "Mean_prices[\"NFK_Price_volume\"].append(NFK_Price_volume)"
   ]
  },
  {
   "cell_type": "code",
   "execution_count": 1308,
   "metadata": {},
   "outputs": [
    {
     "data": {
      "text/html": [
       "<div>\n",
       "<style scoped>\n",
       "    .dataframe tbody tr th:only-of-type {\n",
       "        vertical-align: middle;\n",
       "    }\n",
       "\n",
       "    .dataframe tbody tr th {\n",
       "        vertical-align: top;\n",
       "    }\n",
       "\n",
       "    .dataframe thead th {\n",
       "        text-align: right;\n",
       "    }\n",
       "</style>\n",
       "<table border=\"1\" class=\"dataframe\">\n",
       "  <thead>\n",
       "    <tr style=\"text-align: right;\">\n",
       "      <th></th>\n",
       "      <th>NFK_Price</th>\n",
       "      <th>NFK_Price_volume</th>\n",
       "      <th>IE_Price</th>\n",
       "      <th>CP_Price</th>\n",
       "      <th>SL_Price</th>\n",
       "    </tr>\n",
       "  </thead>\n",
       "  <tbody>\n",
       "    <tr>\n",
       "      <td>0</td>\n",
       "      <td>2246.111700</td>\n",
       "      <td>2245.675000</td>\n",
       "      <td>2246.9</td>\n",
       "      <td>2244.344130</td>\n",
       "      <td>2244.267100</td>\n",
       "    </tr>\n",
       "    <tr>\n",
       "      <td>1</td>\n",
       "      <td>2242.900000</td>\n",
       "      <td>2245.442045</td>\n",
       "      <td>2244.0</td>\n",
       "      <td>2246.161130</td>\n",
       "      <td>2246.269660</td>\n",
       "    </tr>\n",
       "    <tr>\n",
       "      <td>2</td>\n",
       "      <td>2246.300000</td>\n",
       "      <td>2246.350000</td>\n",
       "      <td>2246.3</td>\n",
       "      <td>2245.890900</td>\n",
       "      <td>2245.698500</td>\n",
       "    </tr>\n",
       "    <tr>\n",
       "      <td>3</td>\n",
       "      <td>2244.378571</td>\n",
       "      <td>2240.601705</td>\n",
       "      <td>2245.7</td>\n",
       "      <td>2241.875658</td>\n",
       "      <td>2243.171687</td>\n",
       "    </tr>\n",
       "    <tr>\n",
       "      <td>4</td>\n",
       "      <td>2241.100000</td>\n",
       "      <td>2240.601705</td>\n",
       "      <td>2241.1</td>\n",
       "      <td>2238.933410</td>\n",
       "      <td>2239.062593</td>\n",
       "    </tr>\n",
       "    <tr>\n",
       "      <td>5</td>\n",
       "      <td>2237.900000</td>\n",
       "      <td>2237.175000</td>\n",
       "      <td>2237.9</td>\n",
       "      <td>2236.823570</td>\n",
       "      <td>2236.371024</td>\n",
       "    </tr>\n",
       "    <tr>\n",
       "      <td>6</td>\n",
       "      <td>2236.780000</td>\n",
       "      <td>2236.128125</td>\n",
       "      <td>2237.6</td>\n",
       "      <td>2235.716640</td>\n",
       "      <td>2235.302614</td>\n",
       "    </tr>\n",
       "    <tr>\n",
       "      <td>7</td>\n",
       "      <td>2235.900000</td>\n",
       "      <td>2235.683333</td>\n",
       "      <td>2235.9</td>\n",
       "      <td>2237.454580</td>\n",
       "      <td>2237.700000</td>\n",
       "    </tr>\n",
       "    <tr>\n",
       "      <td>8</td>\n",
       "      <td>2237.700000</td>\n",
       "      <td>2237.900000</td>\n",
       "      <td>2237.7</td>\n",
       "      <td>2237.640260</td>\n",
       "      <td>2237.667450</td>\n",
       "    </tr>\n",
       "    <tr>\n",
       "      <td>9</td>\n",
       "      <td>2237.700000</td>\n",
       "      <td>2237.175000</td>\n",
       "      <td>2237.7</td>\n",
       "      <td>2236.748180</td>\n",
       "      <td>2235.625886</td>\n",
       "    </tr>\n",
       "    <tr>\n",
       "      <td>10</td>\n",
       "      <td>2237.000000</td>\n",
       "      <td>2236.775000</td>\n",
       "      <td>2237.0</td>\n",
       "      <td>2235.841490</td>\n",
       "      <td>2235.848402</td>\n",
       "    </tr>\n",
       "    <tr>\n",
       "      <td>11</td>\n",
       "      <td>2236.300000</td>\n",
       "      <td>2236.012500</td>\n",
       "      <td>2236.3</td>\n",
       "      <td>2234.818407</td>\n",
       "      <td>2233.552160</td>\n",
       "    </tr>\n",
       "    <tr>\n",
       "      <td>12</td>\n",
       "      <td>2233.000000</td>\n",
       "      <td>2232.072297</td>\n",
       "      <td>2233.0</td>\n",
       "      <td>2229.593887</td>\n",
       "      <td>2230.757630</td>\n",
       "    </tr>\n",
       "    <tr>\n",
       "      <td>13</td>\n",
       "      <td>2218.900000</td>\n",
       "      <td>2219.350000</td>\n",
       "      <td>2218.9</td>\n",
       "      <td>2226.121220</td>\n",
       "      <td>2226.700000</td>\n",
       "    </tr>\n",
       "    <tr>\n",
       "      <td>14</td>\n",
       "      <td>2226.700000</td>\n",
       "      <td>2226.025000</td>\n",
       "      <td>2226.7</td>\n",
       "      <td>2224.782890</td>\n",
       "      <td>2224.514640</td>\n",
       "    </tr>\n",
       "    <tr>\n",
       "      <td>15</td>\n",
       "      <td>2224.311842</td>\n",
       "      <td>2223.998684</td>\n",
       "      <td>2225.0</td>\n",
       "      <td>2225.264620</td>\n",
       "      <td>2225.551320</td>\n",
       "    </tr>\n",
       "    <tr>\n",
       "      <td>16</td>\n",
       "      <td>2226.282500</td>\n",
       "      <td>2225.457500</td>\n",
       "      <td>2226.2</td>\n",
       "      <td>2226.830830</td>\n",
       "      <td>2227.200000</td>\n",
       "    </tr>\n",
       "    <tr>\n",
       "      <td>17</td>\n",
       "      <td>2227.200000</td>\n",
       "      <td>2226.875000</td>\n",
       "      <td>2227.2</td>\n",
       "      <td>2226.256490</td>\n",
       "      <td>2225.500000</td>\n",
       "    </tr>\n",
       "    <tr>\n",
       "      <td>18</td>\n",
       "      <td>2225.500000</td>\n",
       "      <td>2226.125000</td>\n",
       "      <td>2225.5</td>\n",
       "      <td>2228.131480</td>\n",
       "      <td>2228.658000</td>\n",
       "    </tr>\n",
       "    <tr>\n",
       "      <td>19</td>\n",
       "      <td>2228.700000</td>\n",
       "      <td>2228.805851</td>\n",
       "      <td>2228.7</td>\n",
       "      <td>2227.042280</td>\n",
       "      <td>2226.911261</td>\n",
       "    </tr>\n",
       "    <tr>\n",
       "      <td>20</td>\n",
       "      <td>2227.800000</td>\n",
       "      <td>2227.533553</td>\n",
       "      <td>2227.8</td>\n",
       "      <td>2226.101010</td>\n",
       "      <td>2226.274187</td>\n",
       "    </tr>\n",
       "    <tr>\n",
       "      <td>21</td>\n",
       "      <td>2225.700000</td>\n",
       "      <td>2224.959722</td>\n",
       "      <td>2225.7</td>\n",
       "      <td>2221.929736</td>\n",
       "      <td>2223.498760</td>\n",
       "    </tr>\n",
       "    <tr>\n",
       "      <td>22</td>\n",
       "      <td>2219.100000</td>\n",
       "      <td>2219.075000</td>\n",
       "      <td>2219.1</td>\n",
       "      <td>2220.583680</td>\n",
       "      <td>2220.600000</td>\n",
       "    </tr>\n",
       "    <tr>\n",
       "      <td>23</td>\n",
       "      <td>2220.600000</td>\n",
       "      <td>2219.681250</td>\n",
       "      <td>2220.6</td>\n",
       "      <td>2219.186630</td>\n",
       "      <td>2218.299651</td>\n",
       "    </tr>\n",
       "    <tr>\n",
       "      <td>24</td>\n",
       "      <td>2219.500000</td>\n",
       "      <td>2219.350000</td>\n",
       "      <td>2219.5</td>\n",
       "      <td>2218.994320</td>\n",
       "      <td>2218.596670</td>\n",
       "    </tr>\n",
       "    <tr>\n",
       "      <td>25</td>\n",
       "      <td>2218.600000</td>\n",
       "      <td>2217.950000</td>\n",
       "      <td>2218.6</td>\n",
       "      <td>2214.290980</td>\n",
       "      <td>2216.824402</td>\n",
       "    </tr>\n",
       "    <tr>\n",
       "      <td>26</td>\n",
       "      <td>2215.000000</td>\n",
       "      <td>2214.321429</td>\n",
       "      <td>2215.0</td>\n",
       "      <td>2211.478700</td>\n",
       "      <td>2212.637433</td>\n",
       "    </tr>\n",
       "    <tr>\n",
       "      <td>27</td>\n",
       "      <td>2211.400000</td>\n",
       "      <td>2210.980000</td>\n",
       "      <td>2211.4</td>\n",
       "      <td>2213.343310</td>\n",
       "      <td>2214.196800</td>\n",
       "    </tr>\n",
       "    <tr>\n",
       "      <td>28</td>\n",
       "      <td>2214.300000</td>\n",
       "      <td>2213.726667</td>\n",
       "      <td>2214.3</td>\n",
       "      <td>2211.349620</td>\n",
       "      <td>2213.606425</td>\n",
       "    </tr>\n",
       "    <tr>\n",
       "      <td>29</td>\n",
       "      <td>2208.900000</td>\n",
       "      <td>2208.750000</td>\n",
       "      <td>2208.9</td>\n",
       "      <td>2213.805820</td>\n",
       "      <td>2213.862320</td>\n",
       "    </tr>\n",
       "    <tr>\n",
       "      <td>30</td>\n",
       "      <td>2214.200000</td>\n",
       "      <td>2214.050000</td>\n",
       "      <td>2214.2</td>\n",
       "      <td>2219.914220</td>\n",
       "      <td>2219.978220</td>\n",
       "    </tr>\n",
       "  </tbody>\n",
       "</table>\n",
       "</div>"
      ],
      "text/plain": [
       "      NFK_Price  NFK_Price_volume  IE_Price     CP_Price     SL_Price\n",
       "0   2246.111700       2245.675000    2246.9  2244.344130  2244.267100\n",
       "1   2242.900000       2245.442045    2244.0  2246.161130  2246.269660\n",
       "2   2246.300000       2246.350000    2246.3  2245.890900  2245.698500\n",
       "3   2244.378571       2240.601705    2245.7  2241.875658  2243.171687\n",
       "4   2241.100000       2240.601705    2241.1  2238.933410  2239.062593\n",
       "5   2237.900000       2237.175000    2237.9  2236.823570  2236.371024\n",
       "6   2236.780000       2236.128125    2237.6  2235.716640  2235.302614\n",
       "7   2235.900000       2235.683333    2235.9  2237.454580  2237.700000\n",
       "8   2237.700000       2237.900000    2237.7  2237.640260  2237.667450\n",
       "9   2237.700000       2237.175000    2237.7  2236.748180  2235.625886\n",
       "10  2237.000000       2236.775000    2237.0  2235.841490  2235.848402\n",
       "11  2236.300000       2236.012500    2236.3  2234.818407  2233.552160\n",
       "12  2233.000000       2232.072297    2233.0  2229.593887  2230.757630\n",
       "13  2218.900000       2219.350000    2218.9  2226.121220  2226.700000\n",
       "14  2226.700000       2226.025000    2226.7  2224.782890  2224.514640\n",
       "15  2224.311842       2223.998684    2225.0  2225.264620  2225.551320\n",
       "16  2226.282500       2225.457500    2226.2  2226.830830  2227.200000\n",
       "17  2227.200000       2226.875000    2227.2  2226.256490  2225.500000\n",
       "18  2225.500000       2226.125000    2225.5  2228.131480  2228.658000\n",
       "19  2228.700000       2228.805851    2228.7  2227.042280  2226.911261\n",
       "20  2227.800000       2227.533553    2227.8  2226.101010  2226.274187\n",
       "21  2225.700000       2224.959722    2225.7  2221.929736  2223.498760\n",
       "22  2219.100000       2219.075000    2219.1  2220.583680  2220.600000\n",
       "23  2220.600000       2219.681250    2220.6  2219.186630  2218.299651\n",
       "24  2219.500000       2219.350000    2219.5  2218.994320  2218.596670\n",
       "25  2218.600000       2217.950000    2218.6  2214.290980  2216.824402\n",
       "26  2215.000000       2214.321429    2215.0  2211.478700  2212.637433\n",
       "27  2211.400000       2210.980000    2211.4  2213.343310  2214.196800\n",
       "28  2214.300000       2213.726667    2214.3  2211.349620  2213.606425\n",
       "29  2208.900000       2208.750000    2208.9  2213.805820  2213.862320\n",
       "30  2214.200000       2214.050000    2214.2  2219.914220  2219.978220"
      ]
     },
     "execution_count": 1308,
     "metadata": {},
     "output_type": "execute_result"
    }
   ],
   "source": [
    "pd.DataFrame(Mean_prices)/1000"
   ]
  },
  {
   "cell_type": "code",
   "execution_count": 1309,
   "metadata": {},
   "outputs": [
    {
     "data": {
      "text/plain": [
       "NFK_Price           2228.573052\n",
       "NFK_Price_volume    2228.213109\n",
       "IE_Price            2228.722581\n",
       "CP_Price            2228.298390\n",
       "SL_Price            2228.538864\n",
       "dtype: float64"
      ]
     },
     "execution_count": 1309,
     "metadata": {},
     "output_type": "execute_result"
    }
   ],
   "source": [
    "(pd.DataFrame(Mean_prices)/1000).mean()"
   ]
  },
  {
   "cell_type": "code",
   "execution_count": 1310,
   "metadata": {},
   "outputs": [],
   "source": [
    "(pd.DataFrame(Mean_prices)/1000).to_csv(\"Mean_Prices.csv\")"
   ]
  },
  {
   "cell_type": "code",
   "execution_count": null,
   "metadata": {},
   "outputs": [],
   "source": []
  }
 ],
 "metadata": {
  "kernelspec": {
   "display_name": "Python 3",
   "language": "python",
   "name": "python3"
  },
  "language_info": {
   "codemirror_mode": {
    "name": "ipython",
    "version": 3
   },
   "file_extension": ".py",
   "mimetype": "text/x-python",
   "name": "python",
   "nbconvert_exporter": "python",
   "pygments_lexer": "ipython3",
   "version": "3.7.4"
  }
 },
 "nbformat": 4,
 "nbformat_minor": 2
}
